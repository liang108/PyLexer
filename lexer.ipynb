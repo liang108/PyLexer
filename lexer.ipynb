{
 "metadata": {
  "language_info": {
   "codemirror_mode": {
    "name": "ipython",
    "version": 3
   },
   "file_extension": ".py",
   "mimetype": "text/x-python",
   "name": "python",
   "nbconvert_exporter": "python",
   "pygments_lexer": "ipython3",
   "version": "3.7.1-final"
  },
  "orig_nbformat": 2,
  "kernelspec": {
   "name": "python3",
   "display_name": "Python 3.7.1 32-bit",
   "metadata": {
    "interpreter": {
     "hash": "1e3266d642cb174394dfcf6817e10b199b3518bc523970f9230182917a71aa74"
    }
   }
  }
 },
 "nbformat": 4,
 "nbformat_minor": 2,
 "cells": [
  {
   "cell_type": "code",
   "execution_count": 18,
   "metadata": {},
   "outputs": [],
   "source": [
    "# Constants: build lists for optimal checks. Otherwise string matching will be expensive\n",
    "\n",
    "letters = \"abcdefghijklmnopqrstuvwxyzABCDEFGHIJKLMNOPQRSTUVWXYZ$_\"\n",
    "digits = \"0123456789\"\n",
    "operators = \"+-*/=<>%\"\n",
    "\n",
    "letters_list = []\n",
    "digits_list = []\n",
    "operators_list = []\n",
    "for letter in letters:\n",
    "    letters_list.append(letter)\n",
    "\n",
    "for digit in digits:\n",
    "    digits_list.append(digit)\n",
    "\n",
    "for operator in operators:\n",
    "    operators_list.append(operator)\n",
    "\n",
    "# ~ denotes end of input\n",
    "separators_list = [\"(\", \")\", \"{\", \"}\", \"[\", \"]\", \",\", \".\", \":\", \";\", \"~\"]\n",
    "keywords = (\"int\", \"float\", \"bool\", \"True\", \"False\", \"if\", \"else\", \"then\", \"endif\", \"endelse\", \"while\", \"whileend\", \"do\", \"enddo\", \"for\", \"STDinput\", \"STDoutput\", \"and\", \"or\", \"not\")\n",
    "\n",
    "'''\n",
    "State table: \n",
    "1 - starting state\n",
    "2 - in identifier\n",
    "3 - end of identifier\n",
    "4 - in integer\n",
    "5 - end of integer\n",
    "6 - in decimal\n",
    "7 - end of decimal\n",
    "8 - in block comment\n",
    "9 - end block comment\n",
    "10 - operator\n",
    "11 - separator           \n",
    "\n",
    "Inputs:\n",
    "l - letter/identifier char\n",
    "d - digit\n",
    "sp - white space\n",
    "! - comment\n",
    ". - period\n",
    "op - operator\n",
    "sep - separator\n",
    "'''\n",
    "\n",
    "table = {       # l  d  sp !  .   op  sep backup \n",
    "            1 : ( 2, 4, 1, 8, 11, 10, 11, False ),\n",
    "            2 : ( 2, 2, 3, 3, 3, 3, 3, False ), \n",
    "            3 : ( 1, 1, 1, 1, 1, 1, 1, True ),\n",
    "            4 : ( 5, 4, 5, 5, 6, 5, 5, False ),\n",
    "            5 : ( 1, 1, 1, 1, 1, 1, 1, True ),\n",
    "            6 : ( 7, 6, 7, 7, 7, 7, 7, False ),\n",
    "            7 : ( 1, 1, 1, 1, 1, 1, 1, True ),\n",
    "            8 : ( 8, 8, 8, 9, 8, 8, 8, False ),\n",
    "            9 : ( 1, 1, 1, 1, 1, 1, 1, False ),\n",
    "            10: ( 1, 1, 1, 1, 1, 1, 1, False ),\n",
    "            11: ( 1, 1, 1, 1, 1, 1, 1, False )\n",
    "        }\n",
    "\n",
    "accepting_states = (3, 5, 7, 9, 10, 11)"
   ]
  },
  {
   "cell_type": "code",
   "execution_count": 19,
   "metadata": {},
   "outputs": [],
   "source": [
    "def get_token(accepting_state):\n",
    "    #if accepting_state not in accepting_states:\n",
    "    #    return \"Error: Not an accepting state\"\n",
    "    if accepting_state == 3:\n",
    "        return \"IDENTIFIER\"\n",
    "    elif accepting_state == 5:\n",
    "        return \"INTEGER\"\n",
    "    elif accepting_state == 7:\n",
    "        return \"FLOAT\"\n",
    "    elif accepting_state == 9:\n",
    "        return \"BLOCK COMMENT\"\n",
    "    elif accepting_state == 10:\n",
    "        return \"OPERATOR\"\n",
    "    elif accepting_state == 11:\n",
    "        return \"SEPARATOR\""
   ]
  },
  {
   "cell_type": "code",
   "execution_count": 20,
   "metadata": {},
   "outputs": [],
   "source": [
    "def get_next_state(curr_state, char):\n",
    "    if char in letters_list:\n",
    "        return table[curr_state][0]\n",
    "    elif char in digits_list:\n",
    "        return table[curr_state][1]\n",
    "    elif char == \" \":\n",
    "        return table[curr_state][2]\n",
    "    elif char == \"!\":\n",
    "        return table[curr_state][3]\n",
    "    elif char == \".\":\n",
    "        return table[curr_state][4]\n",
    "    elif char in operators_list:\n",
    "        return table[curr_state][5]\n",
    "    elif char in separators_list:\n",
    "        return table[curr_state][6]"
   ]
  },
  {
   "cell_type": "code",
   "execution_count": 21,
   "metadata": {},
   "outputs": [],
   "source": [
    "def lexer(input_file, output_file):\n",
    "    input_str = file_to_str(input_file)\n",
    "    output_file = open(output_file, 'w')\n",
    "\n",
    "    state = 1\n",
    "    tokens = []\n",
    "    i = 0\n",
    "    lexeme = \"\"\n",
    "\n",
    "    print(\"TOKENS:\\tLEXEMES\\n\\n\")\n",
    "    output_file.write(\"TOKENS:\\tLEXEMES\\n\\n\")\n",
    "    while i < len(input_str):\n",
    "        state = get_next_state(state, input_str[i])\n",
    "        if (state in accepting_states):\n",
    "            if table[state][7] == False:\n",
    "                # If backup required, do not add current char to the lexeme\n",
    "                lexeme += input_str[i]\n",
    "            token = get_token(state)\n",
    "            if token != \"BLOCK COMMENT\":\n",
    "                # Take out blank spaces in lexeme if not a comment\n",
    "                new_lexeme = lexeme.replace(\" \", \"\")\n",
    "                lexeme = new_lexeme\n",
    "            if token == \"IDENTIFIER\":\n",
    "                if (lexeme in keywords):\n",
    "                    token = \"KEYWORD\"\n",
    "            print(token + \": \" + lexeme + \"\\n\")\n",
    "            output_file.write(token + \": \" + lexeme + \"\\n\")\n",
    "            lexeme = \"\"\n",
    "            if table[state][7] == True:\n",
    "                state = 1\n",
    "                continue\n",
    "            state = 1\n",
    "            i += 1\n",
    "            continue\n",
    "        else: \n",
    "            lexeme += input_str[i]\n",
    "            i += 1\n",
    " \n",
    "    # If end of input, and lexer is not in accepting state, force it to return a token and lexeme\n",
    "    # Do this by assuming end of input forces an accepting state\n",
    "    if lexeme != \"\":\n",
    "        state = get_next_state(state, '~')\n",
    "        print(get_token(state) + \": \" + lexeme + \"\\n\")\n",
    "        output_file.write(token + \": \" + lexeme + \"\\n\")\n",
    "\n",
    "    output_file.close()"
   ]
  },
  {
   "cell_type": "code",
   "execution_count": 22,
   "metadata": {},
   "outputs": [],
   "source": [
    "def file_to_str(file_path):\n",
    "    infile = open(file_path, 'r')\n",
    "    infile_as_list = infile.readlines()\n",
    "\n",
    "    new_infile_list = []\n",
    "\n",
    "    # Remove newline and tab characters\n",
    "    for elmt in infile_as_list:\n",
    "        new_elmt_rm_newline = elmt.replace(\"\\n\", \"\")\n",
    "        new_elmt_rm_tab = new_elmt_rm_newline.replace(\"\\t\", \"\")\n",
    "        new_infile_list.append(new_elmt_rm_tab)\n",
    "\n",
    "    infile.close()\n",
    "\n",
    "    infile_as_str = \"\"\n",
    "    \n",
    "    for elmt in new_infile_list:\n",
    "        infile_as_str += elmt\n",
    "\n",
    "    return infile_as_str"
   ]
  },
  {
   "cell_type": "code",
   "execution_count": 23,
   "metadata": {},
   "outputs": [],
   "source": [
    "test1 = (\"C:/Users/jhlia/Documents/2020-2021/cpsc323/hw1/Test files/testinput1.txt\")\n",
    "test2 = (\"C:/Users/jhlia/Documents/2020-2021/cpsc323/hw1/Test files/testinput2.txt\")\n",
    "test3 = (\"C:/Users/jhlia/Documents/2020-2021/cpsc323/hw1/Test files/testinput3.txt\")\n",
    "testout1 = (\"C:/Users/jhlia/Documents/2020-2021/cpsc323/hw1/Test files/testoutput1.txt\")\n",
    "testout2 = (\"C:/Users/jhlia/Documents/2020-2021/cpsc323/hw1/Test files/testoutput2.txt\")\n",
    "testout3 = (\"C:/Users/jhlia/Documents/2020-2021/cpsc323/hw1/Test files/testoutput3.txt\")"
   ]
  },
  {
   "cell_type": "code",
   "execution_count": 24,
   "metadata": {},
   "outputs": [
    {
     "output_type": "stream",
     "name": "stdout",
     "text": [
      "TOKENS:\tLEXEMES\n\n\nBLOCK COMMENT: ! Declare and assign a number !\n\nKEYWORD: int\n\nIDENTIFIER: number\n\nSEPARATOR: ;\n\nIDENTIFIER: number\n\nOPERATOR: =\n\nINTEGER: 9\n\nSEPARATOR: ;\n\n"
     ]
    }
   ],
   "source": [
    "lexer(test1, testout1) "
   ]
  },
  {
   "cell_type": "code",
   "execution_count": 25,
   "metadata": {
    "tags": []
   },
   "outputs": [
    {
     "output_type": "stream",
     "name": "stdout",
     "text": [
      "TOKENS:\tLEXEMES\n\n\nBLOCK COMMENT: ! Find the largest value between two numbers!\n\nKEYWORD: int\n\nIDENTIFIER: num1\n\nSEPARATOR: ,\n\nIDENTIFIER: num2$\n\nSEPARATOR: ,\n\nIDENTIFIER: large_num\n\nSEPARATOR: ;\n\nKEYWORD: if\n\nSEPARATOR: (\n\nIDENTIFIER: num1\n\nOPERATOR: >\n\nIDENTIFIER: num2$\n\nSEPARATOR: )\n\nSEPARATOR: {\n\nIDENTIFIER: large_num\n\nOPERATOR: =\n\nIDENTIFIER: num1\n\nSEPARATOR: ;\n\nSEPARATOR: }\n\nKEYWORD: else\n\nSEPARATOR: {\n\nIDENTIFIER: large_num\n\nOPERATOR: =\n\nIDENTIFIER: num2$\n\nSEPARATOR: ;\n\nSEPARATOR: }\n\n"
     ]
    }
   ],
   "source": [
    "lexer(test2, testout2)"
   ]
  },
  {
   "cell_type": "code",
   "execution_count": 26,
   "metadata": {},
   "outputs": [
    {
     "output_type": "stream",
     "name": "stdout",
     "text": [
      "TOKENS:\tLEXEMES\n\n\nBLOCK COMMENT: ! This is a test case !\n\nKEYWORD: float\n\nIDENTIFIER: a\n\nSEPARATOR: ;\n\nKEYWORD: float\n\nIDENTIFIER: b\n\nSEPARATOR: ;\n\nKEYWORD: while\n\nSEPARATOR: (\n\nIDENTIFIER: a\n\nOPERATOR: <\n\nIDENTIFIER: b\n\nSEPARATOR: )\n\nSEPARATOR: :\n\nIDENTIFIER: a\n\nOPERATOR: =\n\nIDENTIFIER: a\n\nOPERATOR: *\n\nIDENTIFIER: a\n\nSEPARATOR: ;\n\nKEYWORD: STDoutput\n\nSEPARATOR: (\n\nIDENTIFIER: a\n\nSEPARATOR: )\n\nSEPARATOR: ;\n\n"
     ]
    }
   ],
   "source": [
    "lexer(test3, testout3)"
   ]
  }
 ]
}