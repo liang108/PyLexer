{
 "metadata": {
  "language_info": {
   "codemirror_mode": {
    "name": "ipython",
    "version": 3
   },
   "file_extension": ".py",
   "mimetype": "text/x-python",
   "name": "python",
   "nbconvert_exporter": "python",
   "pygments_lexer": "ipython3",
   "version": "3.7.1-final"
  },
  "orig_nbformat": 2,
  "kernelspec": {
   "name": "python3",
   "display_name": "Python 3.7.1 32-bit",
   "metadata": {
    "interpreter": {
     "hash": "1e3266d642cb174394dfcf6817e10b199b3518bc523970f9230182917a71aa74"
    }
   }
  }
 },
 "nbformat": 4,
 "nbformat_minor": 2,
 "cells": [
  {
   "cell_type": "code",
   "execution_count": 57,
   "metadata": {},
   "outputs": [],
   "source": [
    "# Constants: build lists for optimal checks. Otherwise string matching will be expensive\n",
    "\n",
    "letters = \"abcdefghijklmnopqrstuvwxyzABCDEFGHIJKLMNOPQRSTUVWXYZ\"\n",
    "digits = \"0123456789\"\n",
    "operators = \"+-*/=<>%\"\n",
    "\n",
    "letters_list = []\n",
    "digits_list = []\n",
    "operators_list = []\n",
    "for letter in letters:\n",
    "    letters_list.append(letter)\n",
    "\n",
    "for digit in digits:\n",
    "    digits_list.append(digit)\n",
    "\n",
    "for operator in operators:\n",
    "    operators_list.append(operator)\n",
    "\n",
    "# ~ denotes end of input\n",
    "separators_list = [\"(\", \")\", \"{\", \"}\", \"[\", \"]\", \",\", \".\", \":\", \";\", \"~\"]\n",
    "keywords = (\"int\", \"float\", \"bool\", \"True\", \"False\", \"if\", \"else\", \"then\", \"endif\", \"endelse\", \"while\", \"whileend\", \"do\", \"enddo\", \"for\", \"STDinput\", \"and\", \"or\", \"not\")\n",
    "\n",
    "'''\n",
    "State table: \n",
    "1 - starting state\n",
    "2 - in identifier\n",
    "3 - end of identifier\n",
    "4 - in integer\n",
    "5 - end of integer\n",
    "6 - in decimal\n",
    "7 - end of decimal\n",
    "8 - in block comment\n",
    "9 - end block comment\n",
    "10 - operator\n",
    "11 - separator           \n",
    "'''\n",
    "\n",
    "table = {       # l  d  sp !  .   op  sep \n",
    "            1 : ( 2, 4, 1, 8, 11, 10, 11 ),\n",
    "            2 : ( 2, 2, 3, 3, 3, 3, 3 ),\n",
    "            3 : ( 1, 1, 1, 1, 1, 1, 1 ),\n",
    "            4 : ( 5, 4, 5, 5, 5, 5, 5 ),\n",
    "            5 : ( 1, 1, 1, 1, 1, 1, 1 ),\n",
    "            6 : ( 7, 6, 7, 7, 7, 7, 7 ),\n",
    "            7 : ( 1, 1, 1, 1, 1, 1, 1 ),\n",
    "            8 : ( 8, 8, 8, 9, 8, 8, 8 ),\n",
    "            9 : ( 1, 1, 1, 1, 1, 1, 1 ),\n",
    "            10: ( 1, 1, 1, 1, 1, 1, 1 ),\n",
    "            11: ( 1, 1, 1, 1, 1, 1, 1 )\n",
    "        }\n",
    "\n",
    "accepting_states = (3, 5, 7, 9, 10, 11)"
   ]
  },
  {
   "cell_type": "code",
   "execution_count": 58,
   "metadata": {},
   "outputs": [],
   "source": [
    "# Shortcomings: \n",
    "# 1. Inability to recognize compound operators, eg. >= or <=. Will instead recognize as two separate operators"
   ]
  },
  {
   "cell_type": "code",
   "execution_count": 59,
   "metadata": {},
   "outputs": [],
   "source": [
    "def get_token(accepting_state):\n",
    "    #if accepting_state not in accepting_states:\n",
    "    #    return \"Error: Not an accepting state\"\n",
    "    if accepting_state == 3:\n",
    "        return \"IDENTIFIER\"\n",
    "    elif accepting_state == 5:\n",
    "        return \"INTEGER\"\n",
    "    elif accepting_state == 7:\n",
    "        return \"FLOAT\"\n",
    "    elif accepting_state == 9:\n",
    "        return \"BLOCK COMMENT\"\n",
    "    elif accepting_state == 10:\n",
    "        return \"OPERATOR\"\n",
    "    elif accepting_state == 11:\n",
    "        return \"SEPARATOR\""
   ]
  },
  {
   "cell_type": "code",
   "execution_count": 60,
   "metadata": {},
   "outputs": [],
   "source": [
    "def get_next_state(curr_state, char):\n",
    "    if char in letters_list:\n",
    "        return table[curr_state][0]\n",
    "    elif char in digits_list:\n",
    "        return table[curr_state][1]\n",
    "    elif char == \" \":\n",
    "        return table[curr_state][2]\n",
    "    elif char == \"!\":\n",
    "        return table[curr_state][3]\n",
    "    elif char == \".\":\n",
    "        return table[curr_state][4]\n",
    "    elif char in operators_list:\n",
    "        return table[curr_state][5]\n",
    "    elif char in separators_list:\n",
    "        return table[curr_state][6]"
   ]
  },
  {
   "cell_type": "code",
   "execution_count": 61,
   "metadata": {},
   "outputs": [],
   "source": [
    "def lexer(input_str):\n",
    "    state = 1\n",
    "    tokens = []\n",
    "    i = 0\n",
    "    lexeme = \"\"\n",
    "    while i < len(input_str):\n",
    "        state = get_next_state(state, input_str[i])\n",
    "        lexeme += input_str[i]\n",
    "        if (state in accepting_states):\n",
    "            print(get_token(state) + \": \" + lexeme + \"\\n\")\n",
    "            lexeme = \"\"\n",
    "            state = 1\n",
    "        i += 1\n",
    " \n",
    "    # If end of input, and lexer is not in accepting state, force it to return a token and lexeme\n",
    "    # Do this by assuming end of input forces an accepting state\n",
    "    if lexeme != \"\":\n",
    "        state = get_next_state(state, '~')\n",
    "        print(get_token(state) + \": \" + lexeme + \"\\n\")"
   ]
  },
  {
   "cell_type": "code",
   "execution_count": 62,
   "metadata": {},
   "outputs": [
    {
     "output_type": "stream",
     "name": "stdout",
     "text": [
      "IDENTIFIER: This \n\nIDENTIFIER: is \n\nIDENTIFIER: input\n\n"
     ]
    }
   ],
   "source": [
    "lexer(\"This is input\")"
   ]
  },
  {
   "cell_type": "code",
   "execution_count": null,
   "metadata": {},
   "outputs": [],
   "source": []
  }
 ]
}